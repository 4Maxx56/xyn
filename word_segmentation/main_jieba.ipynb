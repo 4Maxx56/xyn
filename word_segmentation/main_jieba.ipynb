{
 "cells": [
  {
   "cell_type": "markdown",
   "id": "b418f29b-6e14-4ae0-aff6-2b811a1d1106",
   "metadata": {},
   "source": [
    "# 结巴分词实践"
   ]
  },
  {
   "cell_type": "markdown",
   "id": "4e1a8564-bf82-468e-bb4d-f54dfb9981d0",
   "metadata": {},
   "source": [
    "## 结巴分词的三种模式"
   ]
  },
  {
   "cell_type": "markdown",
   "id": "ec105fe5-2d80-4a42-9b58-e2c413ceac82",
   "metadata": {},
   "source": [
    "### 全模式"
   ]
  },
  {
   "cell_type": "code",
   "execution_count": 1,
   "id": "5350d627-b790-4843-8d32-b1bfc60c017e",
   "metadata": {},
   "outputs": [
    {
     "name": "stderr",
     "output_type": "stream",
     "text": [
      "Building prefix dict from the default dictionary ...\n",
      "Loading model from cache C:\\Users\\26544\\AppData\\Local\\Temp\\jieba.cache\n",
      "Loading model cost 0.288 seconds.\n",
      "Prefix dict has been built successfully.\n"
     ]
    },
    {
     "name": "stdout",
     "output_type": "stream",
     "text": [
      "Full Mode: 我 / 来到 / 北京 / 清华 / 清华大学 / 华大 / 大学\n"
     ]
    }
   ],
   "source": [
    "import jieba\n",
    "seg_list = jieba.cut(\"我来到北京清华大学\", cut_all=True)\n",
    "print(\"Full Mode: \" + \" / \".join(seg_list))"
   ]
  },
  {
   "cell_type": "markdown",
   "id": "7b731e82-2258-45f0-b754-1753e8c3397c",
   "metadata": {},
   "source": [
    "### 精确模式"
   ]
  },
  {
   "cell_type": "code",
   "execution_count": 2,
   "id": "a6274b5a-d579-4ca7-86ee-991bc599b9dc",
   "metadata": {},
   "outputs": [
    {
     "name": "stdout",
     "output_type": "stream",
     "text": [
      "Default Mode: 我/ 来到/ 北京/ 清华大学\n"
     ]
    }
   ],
   "source": [
    "seg_list = jieba.cut(\"我来到北京清华大学\", cut_all=False)\n",
    "print(\"Default Mode: \" + \"/ \".join(seg_list))  # 精确模式"
   ]
  },
  {
   "cell_type": "markdown",
   "id": "79313c39-6e0f-4ce3-b78e-9c4ebbeafae6",
   "metadata": {},
   "source": [
    "### 搜索引擎模式"
   ]
  },
  {
   "cell_type": "code",
   "execution_count": 3,
   "id": "3437054a-d61b-42d5-9ee6-f9054d9064dd",
   "metadata": {},
   "outputs": [
    {
     "name": "stdout",
     "output_type": "stream",
     "text": [
      "小明, 硕士, 毕业, 于, 中国, 科学, 学院, 科学院, 中国科学院, 计算, 计算所, ，, 后, 在, 日本, 京都, 大学, 日本京都大学, 深造\n"
     ]
    }
   ],
   "source": [
    "seg_list = jieba.cut_for_search(\"小明硕士毕业于中国科学院计算所，后在日本京都大学深造\")  # 搜索引擎模式\n",
    "print(\", \".join(seg_list))"
   ]
  },
  {
   "cell_type": "markdown",
   "id": "8337fc6b-1215-45e3-895b-10bd7e23f6bd",
   "metadata": {},
   "source": [
    "### 载入词典"
   ]
  },
  {
   "cell_type": "code",
   "execution_count": 4,
   "id": "da88f961-c92e-4746-bd0d-1b7d257e6fa8",
   "metadata": {},
   "outputs": [
    {
     "name": "stdout",
     "output_type": "stream",
     "text": [
      "Default Mode: 夏彦楠/即将/是/自然语言/处理/方面/的/高手\n"
     ]
    }
   ],
   "source": [
    "jieba.load_userdict(\"userdict.txt\")\n",
    "seg_list = jieba.cut(\"夏彦楠即将是自然语言处理方面的高手\", cut_all=False, HMM=False)\n",
    "print(\"Default Mode: \" + \"/\".join(seg_list))"
   ]
  }
 ],
 "metadata": {
  "kernelspec": {
   "display_name": "Python 3 (ipykernel)",
   "language": "python",
   "name": "python3"
  },
  "language_info": {
   "codemirror_mode": {
    "name": "ipython",
    "version": 3
   },
   "file_extension": ".py",
   "mimetype": "text/x-python",
   "name": "python",
   "nbconvert_exporter": "python",
   "pygments_lexer": "ipython3",
   "version": "3.9.21"
  }
 },
 "nbformat": 4,
 "nbformat_minor": 5
}
